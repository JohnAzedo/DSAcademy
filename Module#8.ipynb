{
 "cells": [
  {
   "cell_type": "markdown",
   "metadata": {
    "colab_type": "text",
    "id": "qQOikvfVGDzt"
   },
   "source": [
    "# DSAcademy Module #8\n",
    "\n",
    "Python stack to data science analysis.\n"
   ]
  },
  {
   "cell_type": "markdown",
   "metadata": {
    "colab_type": "text",
    "id": "OQfCflIROYL4"
   },
   "source": [
    "## Numpy\n",
    "\n",
    "NumPy is a library for the Python programming language, adding support for large, multi-dimensional arrays and matrices, along with a large collection of high-level mathematical functions to operate on these arrays.\n"
   ]
  },
  {
   "cell_type": "markdown",
   "metadata": {
    "colab_type": "text",
    "id": "hpVeN-RdOYa4"
   },
   "source": [
    "### SetUp\n",
    "\n",
    "Install numpy with pip package manager or update the same"
   ]
  },
  {
   "cell_type": "code",
   "execution_count": 0,
   "metadata": {
    "colab": {},
    "colab_type": "code",
    "id": "7OmthLl7MOGU"
   },
   "outputs": [],
   "source": [
    "pip install numpy -U"
   ]
  },
  {
   "cell_type": "markdown",
   "metadata": {
    "colab_type": "text",
    "id": "T51mochXNK4k"
   },
   "source": [
    "Import numpy to use\n"
   ]
  },
  {
   "cell_type": "code",
   "execution_count": 0,
   "metadata": {
    "colab": {},
    "colab_type": "code",
    "id": "9JFkl3TbNNoX"
   },
   "outputs": [],
   "source": [
    "import numpy as np"
   ]
  },
  {
   "cell_type": "markdown",
   "metadata": {
    "colab_type": "text",
    "id": "0ePAj6I7OHuH"
   },
   "source": [
    "### Usage \n",
    "\n",
    "Examples of using numpy"
   ]
  },
  {
   "cell_type": "code",
   "execution_count": 0,
   "metadata": {
    "colab": {},
    "colab_type": "code",
    "id": "wDxNxJWdO3YL"
   },
   "outputs": [],
   "source": [
    "# Creating an np.array from a list\n",
    "vetor = np.array([1, 2, 3, 4, 5, 6, 7, 8, 9, 10])\n",
    "\n",
    "print(f\"Value: {vetor}\")\n",
    "print(f\"Type: {type(vetor)}\")"
   ]
  },
  {
   "cell_type": "markdown",
   "metadata": {
    "colab_type": "text",
    "id": "31F_K6xvRcBd"
   },
   "source": [
    "Numpy.array is a same type set. You can't add a string in a number set, for example.\n"
   ]
  },
  {
   "cell_type": "code",
   "execution_count": 0,
   "metadata": {
    "colab": {},
    "colab_type": "code",
    "id": "C_CoIF7AQUIy"
   },
   "outputs": [],
   "source": [
    "# This output will be a ValueError\n",
    "vetor[0] = 'Same string'"
   ]
  },
  {
   "cell_type": "markdown",
   "metadata": {
    "colab_type": "text",
    "id": "wI5ybXJeSZB1"
   },
   "source": [
    "You can call dtype attribute to know what data type is in Numpy.array"
   ]
  },
  {
   "cell_type": "code",
   "execution_count": 10,
   "metadata": {
    "colab": {
     "base_uri": "https://localhost:8080/",
     "height": 34
    },
    "colab_type": "code",
    "executionInfo": {
     "elapsed": 684,
     "status": "ok",
     "timestamp": 1591357432666,
     "user": {
      "displayName": "João Pedro Limão",
      "photoUrl": "https://lh3.googleusercontent.com/a-/AOh14Gjv8En4Nuy9-D0dyG3OFy5U0eywrffJ_SE50uQFoQ=s64",
      "userId": "04544009948185166243"
     },
     "user_tz": 180
    },
    "id": "m_IiuqVGSpQ8",
    "outputId": "82c51526-4431-4323-bc02-aa77899c8614"
   },
   "outputs": [
    {
     "data": {
      "text/plain": [
       "dtype('int64')"
      ]
     },
     "execution_count": 10,
     "metadata": {
      "tags": []
     },
     "output_type": "execute_result"
    }
   ],
   "source": [
    "vetor.dtype"
   ]
  },
  {
   "cell_type": "markdown",
   "metadata": {
    "colab_type": "text",
    "id": "6I5uSRx3Td5Q"
   },
   "source": [
    "Create a matrix with 1 in main diagonal and 0 in the rest, also called identity matrix."
   ]
  },
  {
   "cell_type": "code",
   "execution_count": 0,
   "metadata": {
    "colab": {},
    "colab_type": "code",
    "id": "H3VoGBn9Tusu"
   },
   "outputs": [],
   "source": [
    "im = np.eye(5)\n",
    "im"
   ]
  },
  {
   "cell_type": "markdown",
   "metadata": {
    "colab_type": "text",
    "id": "G0EsX8HvU7pc"
   },
   "source": [
    "You can also create a matrix with specify number in main diagonal"
   ]
  },
  {
   "cell_type": "code",
   "execution_count": 0,
   "metadata": {
    "colab": {},
    "colab_type": "code",
    "id": "0opyl-jRU9dm"
   },
   "outputs": [],
   "source": [
    "snmd = np.diag([100, 200, 300, 400, 500])\n",
    "snmd"
   ]
  }
 ],
 "metadata": {
  "colab": {
   "authorship_tag": "ABX9TyNDheJdiIkIEGBXclT5cbjX",
   "name": "Module#8.ipynb",
   "provenance": [],
   "toc_visible": true
  },
  "kernelspec": {
   "display_name": "Python 3",
   "language": "python",
   "name": "python3"
  }
 },
 "nbformat": 4,
 "nbformat_minor": 1
}
